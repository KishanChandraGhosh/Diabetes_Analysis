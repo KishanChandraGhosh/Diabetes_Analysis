{
  "nbformat": 4,
  "nbformat_minor": 0,
  "metadata": {
    "colab": {
      "provenance": []
    },
    "kernelspec": {
      "name": "python3",
      "display_name": "Python 3"
    },
    "language_info": {
      "name": "python"
    }
  },
  "cells": [
    {
      "cell_type": "markdown",
      "source": [
        "#Step by step guide\n",
        "\n",
        "* Load data\n",
        "* Replace 0s → NaN\n",
        "* Fill NaN with mean\n",
        "* Scale data\n",
        "* Split into train/test\n",
        "* Train model (fit)\n",
        "* Test model (predict)\n",
        "* Evaluate accuracy\n",
        "\n"
      ],
      "metadata": {
        "id": "ZqwFyXPgmqBZ"
      }
    },
    {
      "cell_type": "code",
      "execution_count": null,
      "metadata": {
        "id": "39hSBJyGtj5H"
      },
      "outputs": [],
      "source": [
        "import pandas as pd\n",
        "import numpy as np\n"
      ]
    },
    {
      "cell_type": "markdown",
      "source": [
        "#Load dataset"
      ],
      "metadata": {
        "id": "EN9W2pGR09Jy"
      }
    },
    {
      "cell_type": "code",
      "source": [
        "df = pd.read_csv(\"diabetes.csv\")"
      ],
      "metadata": {
        "id": "qeEUhLM51FMb"
      },
      "execution_count": null,
      "outputs": []
    },
    {
      "cell_type": "markdown",
      "source": [
        "#Replace invalid values"
      ],
      "metadata": {
        "id": "HCaqZILj13P7"
      }
    },
    {
      "cell_type": "code",
      "source": [
        "# Columns where 0 is invalid\n",
        "cols_with_zero = [\"Glucose\", \"BloodPressure\", \"SkinThickness\", \"Insulin\", \"BMI\"]\n",
        "\n",
        "# Replace 0 with NaN in those columns\n",
        "df[cols_with_zero] = df[cols_with_zero].replace(0, np.nan)\n",
        "\n",
        "# Replace NaN with the column mean\n",
        "for col in cols_with_zero:\n",
        "    df[col] = df[col].fillna(np.mean(df[col]))"
      ],
      "metadata": {
        "id": "NvFczVoc2BKL"
      },
      "execution_count": null,
      "outputs": []
    },
    {
      "cell_type": "code",
      "source": [
        "df.isnull().sum()"
      ],
      "metadata": {
        "colab": {
          "base_uri": "https://localhost:8080/",
          "height": 366
        },
        "id": "DwHWYpvBF7k3",
        "outputId": "74f2fe6e-1e1c-4e73-f779-9f8333bbb929"
      },
      "execution_count": null,
      "outputs": [
        {
          "output_type": "execute_result",
          "data": {
            "text/plain": [
              "Pregnancies                 0\n",
              "Glucose                     0\n",
              "BloodPressure               0\n",
              "SkinThickness               0\n",
              "Insulin                     0\n",
              "BMI                         0\n",
              "DiabetesPedigreeFunction    0\n",
              "Age                         0\n",
              "Outcome                     0\n",
              "dtype: int64"
            ],
            "text/html": [
              "<div>\n",
              "<style scoped>\n",
              "    .dataframe tbody tr th:only-of-type {\n",
              "        vertical-align: middle;\n",
              "    }\n",
              "\n",
              "    .dataframe tbody tr th {\n",
              "        vertical-align: top;\n",
              "    }\n",
              "\n",
              "    .dataframe thead th {\n",
              "        text-align: right;\n",
              "    }\n",
              "</style>\n",
              "<table border=\"1\" class=\"dataframe\">\n",
              "  <thead>\n",
              "    <tr style=\"text-align: right;\">\n",
              "      <th></th>\n",
              "      <th>0</th>\n",
              "    </tr>\n",
              "  </thead>\n",
              "  <tbody>\n",
              "    <tr>\n",
              "      <th>Pregnancies</th>\n",
              "      <td>0</td>\n",
              "    </tr>\n",
              "    <tr>\n",
              "      <th>Glucose</th>\n",
              "      <td>0</td>\n",
              "    </tr>\n",
              "    <tr>\n",
              "      <th>BloodPressure</th>\n",
              "      <td>0</td>\n",
              "    </tr>\n",
              "    <tr>\n",
              "      <th>SkinThickness</th>\n",
              "      <td>0</td>\n",
              "    </tr>\n",
              "    <tr>\n",
              "      <th>Insulin</th>\n",
              "      <td>0</td>\n",
              "    </tr>\n",
              "    <tr>\n",
              "      <th>BMI</th>\n",
              "      <td>0</td>\n",
              "    </tr>\n",
              "    <tr>\n",
              "      <th>DiabetesPedigreeFunction</th>\n",
              "      <td>0</td>\n",
              "    </tr>\n",
              "    <tr>\n",
              "      <th>Age</th>\n",
              "      <td>0</td>\n",
              "    </tr>\n",
              "    <tr>\n",
              "      <th>Outcome</th>\n",
              "      <td>0</td>\n",
              "    </tr>\n",
              "  </tbody>\n",
              "</table>\n",
              "</div><br><label><b>dtype:</b> int64</label>"
            ]
          },
          "metadata": {},
          "execution_count": 54
        }
      ]
    },
    {
      "cell_type": "markdown",
      "source": [
        "#Preprocessing"
      ],
      "metadata": {
        "id": "O6g-cEMBHZzo"
      }
    },
    {
      "cell_type": "code",
      "source": [
        "from sklearn.preprocessing import StandardScaler\n",
        "\n",
        "scaler = StandardScaler()\n",
        "scaled_features = scaler.fit_transform(df.drop(\"Outcome\", axis=1))\n",
        "df_scaled = pd.DataFrame(scaled_features, columns=df.columns[:-1])\n",
        "df_scaled[\"Outcome\"] = df[\"Outcome\"].values\n",
        "print(df_scaled)"
      ],
      "metadata": {
        "colab": {
          "base_uri": "https://localhost:8080/"
        },
        "id": "iickeNY2HUIV",
        "outputId": "45929bff-9d77-4c75-f65a-07f8f6a9297e"
      },
      "execution_count": null,
      "outputs": [
        {
          "output_type": "stream",
          "name": "stdout",
          "text": [
            "     Pregnancies   Glucose  BloodPressure  SkinThickness       Insulin  \\\n",
            "0       0.639947  0.865108      -0.033518   6.655021e-01 -3.345079e-16   \n",
            "1      -0.844885 -1.206162      -0.529859  -1.746338e-02 -3.345079e-16   \n",
            "2       1.233880  2.015813      -0.695306   8.087936e-16 -3.345079e-16   \n",
            "3      -0.844885 -1.074652      -0.529859  -7.004289e-01 -7.243887e-01   \n",
            "4      -1.141852  0.503458      -2.680669   6.655021e-01  1.465506e-01   \n",
            "..           ...       ...            ...            ...           ...   \n",
            "763     1.827813 -0.680125       0.297376   2.145261e+00  2.877840e-01   \n",
            "764    -0.547919  0.010298      -0.198965  -2.451185e-01 -3.345079e-16   \n",
            "765     0.342981 -0.022579      -0.033518  -7.004289e-01 -5.125386e-01   \n",
            "766    -0.844885  0.141808      -1.026200   8.087936e-16 -3.345079e-16   \n",
            "767    -0.844885 -0.943143      -0.198965   2.101918e-01 -3.345079e-16   \n",
            "\n",
            "          BMI  DiabetesPedigreeFunction       Age  Outcome  \n",
            "0    0.166292                  0.468492  1.425995        1  \n",
            "1   -0.852531                 -0.365061 -0.190672        0  \n",
            "2   -1.332833                  0.604397 -0.105584        1  \n",
            "3   -0.634212                 -0.920763 -1.041549        0  \n",
            "4    1.548980                  5.484909 -0.020496        1  \n",
            "..        ...                       ...       ...      ...  \n",
            "763  0.064409                 -0.908682  2.532136        0  \n",
            "764  0.632039                 -0.398282 -0.531023        0  \n",
            "765 -0.910750                 -0.685193 -0.275760        0  \n",
            "766 -0.343120                 -0.371101  1.170732        1  \n",
            "767 -0.299456                 -0.473785 -0.871374        0  \n",
            "\n",
            "[768 rows x 9 columns]\n"
          ]
        }
      ]
    },
    {
      "cell_type": "code",
      "source": [
        "from sklearn.model_selection import train_test_split\n",
        "\n",
        "X = df_scaled.drop(\"Outcome\", axis=1)\n",
        "y = df_scaled[\"Outcome\"]\n",
        "\n",
        "X_train, X_test, y_train, y_test = train_test_split(\n",
        "    X, y, test_size=0.2, random_state=42, stratify=y\n",
        ")\n",
        "\n",
        "print(X_train)\n",
        "print(X_test)\n",
        "print(y_train)\n",
        "print(y_test)\n",
        "#print(y)\n"
      ],
      "metadata": {
        "colab": {
          "base_uri": "https://localhost:8080/"
        },
        "id": "tMqI3mGKK7Bv",
        "outputId": "54083b16-0974-432d-ed0b-0445c7b17505"
      },
      "execution_count": null,
      "outputs": [
        {
          "output_type": "stream",
          "name": "stdout",
          "text": [
            "     Pregnancies   Glucose  BloodPressure  SkinThickness       Insulin  \\\n",
            "353    -0.844885 -1.041775      -0.860753  -1.952532e+00 -1.324631e+00   \n",
            "711     0.342981  0.141808       0.462823  -2.451185e-01 -1.571789e+00   \n",
            "373    -0.547919 -0.548616      -1.191647   1.234640e+00 -7.243887e-01   \n",
            "46     -0.844885  0.799353      -1.357094   8.087936e-16 -3.345079e-16   \n",
            "682    -1.141852 -0.877389      -0.695306   1.120812e+00 -5.949248e-01   \n",
            "..           ...       ...            ...            ...           ...   \n",
            "451    -0.547919  0.404826      -0.198965   8.087936e-16 -3.345079e-16   \n",
            "113     0.046014 -1.502057      -0.860753   8.087936e-16 -3.345079e-16   \n",
            "556    -0.844885 -0.811634      -0.198965   1.234640e+00 -3.345079e-16   \n",
            "667     1.827813 -0.351352      -0.198965  -2.451185e-01 -3.345079e-16   \n",
            "107     0.046014  0.733599      -1.191647  -1.312910e-01 -1.829940e-01   \n",
            "\n",
            "          BMI  DiabetesPedigreeFunction       Age  \n",
            "353 -0.765203                  0.326546 -0.786286  \n",
            "711 -0.415893                 -0.099290  0.575118  \n",
            "373  0.355502                 -0.745596 -0.701198  \n",
            "46  -0.401338                  0.278225 -0.360847  \n",
            "682  1.767299                 -0.319759 -0.956462  \n",
            "..        ...                       ...       ...  \n",
            "451 -0.517775                  0.211782 -0.871374  \n",
            "113  0.224510                 -0.244256 -0.701198  \n",
            "556  0.821249                 -0.766737 -0.275760  \n",
            "667 -0.721540                 -0.999286  0.575118  \n",
            "107 -0.430447                 -0.558348  0.319855  \n",
            "\n",
            "[614 rows x 8 columns]\n",
            "     Pregnancies   Glucose  BloodPressure  SkinThickness       Insulin  \\\n",
            "44      0.936914  1.226758  -6.953060e-01   8.087936e-16 -3.345079e-16   \n",
            "672     1.827813 -1.765076   2.779080e+00  -7.004289e-01 -1.254014e+00   \n",
            "700    -0.547919  0.010298   2.973756e-01  -2.451185e-01  5.231730e-01   \n",
            "630     0.936914 -0.252720  -6.953060e-01   8.087936e-16 -3.345079e-16   \n",
            "81     -0.547919 -1.567812   1.175571e-15   8.087936e-16 -3.345079e-16   \n",
            "..           ...       ...            ...            ...           ...   \n",
            "32     -0.250952 -1.107530  -1.191647e+00  -2.066360e+00 -1.195167e+00   \n",
            "637    -0.547919 -0.910266   2.973756e-01  -1.269567e+00 -1.053933e+00   \n",
            "593    -0.547919 -1.304793  -1.687988e+00  -8.142565e-01 -4.772303e-01   \n",
            "425     0.046014  2.048691   4.628226e-01   1.120812e+00  1.429421e+00   \n",
            "273    -0.844885 -1.666444   4.628226e-01   2.372916e+00 -1.301092e+00   \n",
            "\n",
            "          BMI  DiabetesPedigreeFunction       Age  \n",
            "44  -0.736094                 -0.537208  0.575118  \n",
            "672  0.442829                 -0.564389  1.170732  \n",
            "700  0.501048                  0.033595 -0.616111  \n",
            "630 -0.736094                  0.785604  0.064591  \n",
            "81   0.000000                 -1.117070 -0.956462  \n",
            "..        ...                       ...       ...  \n",
            "32  -1.114514                 -0.618751 -0.956462  \n",
            "637 -0.124801                  0.534935 -0.871374  \n",
            "593 -0.575994                  3.706059 -0.701198  \n",
            "425  0.661149                 -0.627811 -0.190672  \n",
            "273  0.108073                 -0.150632 -1.041549  \n",
            "\n",
            "[154 rows x 8 columns]\n",
            "353    0\n",
            "711    0\n",
            "373    0\n",
            "46     0\n",
            "682    0\n",
            "      ..\n",
            "451    1\n",
            "113    0\n",
            "556    0\n",
            "667    1\n",
            "107    0\n",
            "Name: Outcome, Length: 614, dtype: int64\n",
            "44     0\n",
            "672    0\n",
            "700    0\n",
            "630    1\n",
            "81     0\n",
            "      ..\n",
            "32     0\n",
            "637    0\n",
            "593    0\n",
            "425    1\n",
            "273    0\n",
            "Name: Outcome, Length: 154, dtype: int64\n"
          ]
        }
      ]
    },
    {
      "cell_type": "code",
      "source": [
        "print(df_scaled.isnull().sum())   # Should show all 0s\n",
        "print(df_scaled.describe())       # Check distribution after scaling\n"
      ],
      "metadata": {
        "colab": {
          "base_uri": "https://localhost:8080/"
        },
        "id": "Rp1vKlUhL1IT",
        "outputId": "55c47a28-56ab-4bb0-e693-f0b0f05b7eca"
      },
      "execution_count": null,
      "outputs": [
        {
          "output_type": "stream",
          "name": "stdout",
          "text": [
            "Pregnancies                 0\n",
            "Glucose                     0\n",
            "BloodPressure               0\n",
            "SkinThickness               0\n",
            "Insulin                     0\n",
            "BMI                         0\n",
            "DiabetesPedigreeFunction    0\n",
            "Age                         0\n",
            "Outcome                     0\n",
            "dtype: int64\n",
            "        Pregnancies       Glucose  BloodPressure  SkinThickness       Insulin  \\\n",
            "count  7.680000e+02  7.680000e+02   7.680000e+02   7.680000e+02  7.680000e+02   \n",
            "mean  -6.476301e-17 -3.561966e-16   6.915764e-16   7.956598e-16 -3.330669e-16   \n",
            "std    1.000652e+00  1.000652e+00   1.000652e+00   1.000652e+00  1.000652e+00   \n",
            "min   -1.141852e+00 -2.554131e+00  -4.004245e+00  -2.521670e+00 -1.665945e+00   \n",
            "25%   -8.448851e-01 -7.212214e-01  -6.953060e-01  -4.727737e-01 -4.007289e-01   \n",
            "50%   -2.509521e-01 -1.540881e-01  -1.675912e-02   8.087936e-16 -3.345079e-16   \n",
            "75%    6.399473e-01  6.103090e-01   6.282695e-01   3.240194e-01 -3.345079e-16   \n",
            "max    3.906578e+00  2.541850e+00   4.102655e+00   7.950467e+00  8.126238e+00   \n",
            "\n",
            "                BMI  DiabetesPedigreeFunction           Age     Outcome  \n",
            "count  7.680000e+02              7.680000e+02  7.680000e+02  768.000000  \n",
            "mean   3.515706e-16              2.451743e-16  1.931325e-16    0.348958  \n",
            "std    1.000652e+00              1.000652e+00  1.000652e+00    0.476951  \n",
            "min   -2.075119e+00             -1.189553e+00 -1.041549e+00    0.000000  \n",
            "25%   -7.215397e-01             -6.889685e-01 -7.862862e-01    0.000000  \n",
            "50%   -8.363615e-03             -3.001282e-01 -3.608474e-01    0.000000  \n",
            "75%    6.029301e-01              4.662269e-01  6.602056e-01    1.000000  \n",
            "max    5.042087e+00              5.883565e+00  4.063716e+00    1.000000  \n"
          ]
        }
      ]
    },
    {
      "cell_type": "markdown",
      "source": [
        "#Train the model"
      ],
      "metadata": {
        "id": "83zHhCsbkLrb"
      }
    },
    {
      "cell_type": "code",
      "source": [
        "from sklearn.linear_model import LogisticRegression\n",
        "\n",
        "model = LogisticRegression()\n",
        "\n",
        "model.fit(X_train, y_train)\n",
        "y_pred = model.predict(X_test)"
      ],
      "metadata": {
        "id": "qXj9A4YwkI5T"
      },
      "execution_count": null,
      "outputs": []
    },
    {
      "cell_type": "markdown",
      "source": [
        "#Check accuracy"
      ],
      "metadata": {
        "id": "hB6DBVsPlvX5"
      }
    },
    {
      "cell_type": "code",
      "source": [
        "from sklearn.metrics import accuracy_score, confusion_matrix, classification_report\n",
        "\n",
        "print(\"Accuracy:\", accuracy_score(y_test, y_pred))\n",
        "print(\"Confusion Matrix:\\n\", confusion_matrix(y_test, y_pred))\n",
        "print(\"Classification Report:\\n\", classification_report(y_test, y_pred))\n"
      ],
      "metadata": {
        "colab": {
          "base_uri": "https://localhost:8080/"
        },
        "id": "_j4aCmnrlu9p",
        "outputId": "b3c9fa6d-c4fb-49a0-eaec-21f13a6c94bc"
      },
      "execution_count": null,
      "outputs": [
        {
          "output_type": "stream",
          "name": "stdout",
          "text": [
            "Accuracy: 0.6948051948051948\n",
            "Confusion Matrix:\n",
            " [[81 19]\n",
            " [28 26]]\n",
            "Classification Report:\n",
            "               precision    recall  f1-score   support\n",
            "\n",
            "           0       0.74      0.81      0.78       100\n",
            "           1       0.58      0.48      0.53        54\n",
            "\n",
            "    accuracy                           0.69       154\n",
            "   macro avg       0.66      0.65      0.65       154\n",
            "weighted avg       0.69      0.69      0.69       154\n",
            "\n"
          ]
        }
      ]
    },
    {
      "cell_type": "markdown",
      "source": [
        "#Using Random Forest & KNN Classifier (Optional)"
      ],
      "metadata": {
        "id": "HYZUXPMEmN_I"
      }
    },
    {
      "cell_type": "code",
      "source": [
        "from sklearn.ensemble import RandomForestClassifier\n",
        "from sklearn.neighbors import KNeighborsClassifier\n",
        "from sklearn.svm import SVC\n",
        "\n",
        "rf = RandomForestClassifier()\n",
        "rf.fit(X_train, y_train)\n",
        "print(\"Random Forest Accuracy:\", rf.score(X_test, y_test))\n"
      ],
      "metadata": {
        "colab": {
          "base_uri": "https://localhost:8080/"
        },
        "id": "uJApUWv5mfbw",
        "outputId": "0eba7dca-e972-45a7-bac2-1e52dd6fc9fb"
      },
      "execution_count": null,
      "outputs": [
        {
          "output_type": "stream",
          "name": "stdout",
          "text": [
            "Random Forest Accuracy: 0.7532467532467533\n"
          ]
        }
      ]
    },
    {
      "cell_type": "markdown",
      "source": [
        "#How well the model predicts diabetic vs non-diabetic cases."
      ],
      "metadata": {
        "id": "VlbOyuPnr0g0"
      }
    },
    {
      "cell_type": "code",
      "source": [
        "from sklearn.metrics import confusion_matrix\n",
        "import matplotlib.pyplot as plt\n",
        "import seaborn as sns\n",
        "\n",
        "cm = confusion_matrix(y_test, y_pred)\n",
        "\n",
        "plt.figure(figsize=(6,4))\n",
        "sns.heatmap(cm, annot=True, fmt='d', cmap='Blues')\n",
        "plt.xlabel('Predicted')\n",
        "plt.ylabel('Actual')\n",
        "plt.title('Confusion Matrix')\n",
        "plt.show()"
      ],
      "metadata": {
        "colab": {
          "base_uri": "https://localhost:8080/",
          "height": 410
        },
        "id": "-2y9G69Vrz6F",
        "outputId": "ba69200c-45ba-41f2-f4bf-04a6cf488078"
      },
      "execution_count": null,
      "outputs": [
        {
          "output_type": "display_data",
          "data": {
            "text/plain": [
              "<Figure size 600x400 with 2 Axes>"
            ],
            "image/png": "[encoded data removed]"
          },
          "metadata": {}
        }
      ]
    },
    {
      "cell_type": "markdown",
      "source": [
        "#Which features (like Glucose, BMI, Age, etc.) affect the prediction most."
      ],
      "metadata": {
        "id": "Wssm4WXMsS20"
      }
    },
    {
      "cell_type": "code",
      "source": [
        "import pandas as pd\n",
        "\n",
        "feature_importances = pd.Series(rf.feature_importances_, index=X.columns)\n",
        "feature_importances.nlargest(10).plot(kind='barh')\n",
        "plt.title(\"Top 10 Important Features (Random Forest)\")\n",
        "plt.show()\n"
      ],
      "metadata": {
        "colab": {
          "base_uri": "https://localhost:8080/",
          "height": 452
        },
        "id": "3LxXjWoJsVeM",
        "outputId": "aa7bec4d-8f1f-4913-babf-a917779e75d3"
      },
      "execution_count": null,
      "outputs": [
        {
          "output_type": "display_data",
          "data": {
            "text/plain": [
              "<Figure size 640x480 with 1 Axes>"
            ],
            "image/png": "[encoded data removed]"
          },
          "metadata": {}
        }
      ]
    },
    {
      "cell_type": "markdown",
      "source": [
        "#Compare actual vs predicted"
      ],
      "metadata": {
        "id": "_-9ODPBBsejc"
      }
    },
    {
      "cell_type": "code",
      "source": [
        "plt.figure(figsize=(6,4))\n",
        "sns.countplot(x=y_test, label='Actual')\n",
        "sns.countplot(x=y_pred, label='Predicted', color='orange')\n",
        "plt.legend()\n",
        "plt.title(\"Actual vs Predicted Outcome\")\n",
        "plt.show()\n"
      ],
      "metadata": {
        "colab": {
          "base_uri": "https://localhost:8080/",
          "height": 410
        },
        "id": "HulY96O8sgDU",
        "outputId": "128e04bf-a61c-4926-9e0b-e82af02fdc49"
      },
      "execution_count": null,
      "outputs": [
        {
          "output_type": "display_data",
          "data": {
            "text/plain": [
              "<Figure size 600x400 with 1 Axes>"
            ],
            "image/png": "[encoded data removed]"
          },
          "metadata": {}
        }
      ]
    },
    {
      "cell_type": "markdown",
      "source": [
        "#Accuracy comparison of models\n",
        "\n",
        "If trained using Logistic Regression, Random Forest, and KNN, compare them:"
      ],
      "metadata": {
        "id": "tDQV-GcFswWb"
      }
    },
    {
      "cell_type": "code",
      "source": [
        "from sklearn.neighbors import KNeighborsClassifier\n",
        "\n",
        "knn = KNeighborsClassifier()\n",
        "knn.fit(X_train, y_train)\n",
        "\n",
        "models = {\n",
        "    \"Logistic Regression\": model.score(X_test, y_test),\n",
        "    \"Random Forest\": rf.score(X_test, y_test),\n",
        "    \"KNN\": knn.score(X_test, y_test)\n",
        "}\n",
        "\n",
        "plt.bar(models.keys(), models.values())\n",
        "plt.title(\"Model Accuracy Comparison\")\n",
        "plt.ylabel(\"Accuracy\")\n",
        "plt.show()\n"
      ],
      "metadata": {
        "colab": {
          "base_uri": "https://localhost:8080/",
          "height": 452
        },
        "id": "hUp8osqis4Fs",
        "outputId": "c5927ce5-058b-4e92-e83e-6f6eb7be788e"
      },
      "execution_count": null,
      "outputs": [
        {
          "output_type": "display_data",
          "data": {
            "text/plain": [
              "<Figure size 640x480 with 1 Axes>"
            ],
            "image/png": "[encoded data removed]"
          },
          "metadata": {}
        }
      ]
    }
  ]
}